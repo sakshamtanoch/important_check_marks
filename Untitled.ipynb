{
 "cells": [
  {
   "cell_type": "code",
   "execution_count": 4,
   "id": "007bd715",
   "metadata": {},
   "outputs": [],
   "source": [
    "import numpy as np\n",
    "from matplotlib import pyplot as plt  "
   ]
  },
  {
   "cell_type": "code",
   "execution_count": 3,
   "id": "8e98cfde",
   "metadata": {},
   "outputs": [],
   "source": [
    "from sklearn.linear_model import LinearRegression"
   ]
  },
  {
   "cell_type": "code",
   "execution_count": 102,
   "id": "c34ebc6e",
   "metadata": {},
   "outputs": [],
   "source": [
    "x = np.array([1000, 1750, 2200])\n",
    "x = x.reshape(-1,1)\n",
    "y =np.array([950000, 2250000, 2400000])"
   ]
  },
  {
   "cell_type": "code",
   "execution_count": 103,
   "id": "04e22a66",
   "metadata": {},
   "outputs": [
    {
     "data": {
      "text/plain": [
       "array([[1000],\n",
       "       [1750],\n",
       "       [2200]])"
      ]
     },
     "execution_count": 103,
     "metadata": {},
     "output_type": "execute_result"
    }
   ],
   "source": [
    "x\n"
   ]
  },
  {
   "cell_type": "code",
   "execution_count": 104,
   "id": "5c2f3e05",
   "metadata": {},
   "outputs": [],
   "source": [
    "classifier = LinearRegression()\n",
    "classifier.fit(x, y)\n",
    "# we use the fit function t train the algorythm on the given arguemnets\n",
    "beta0 = classifier.intercept_\n",
    "\n",
    "beta1 = classifier.coef_\n"
   ]
  },
  {
   "cell_type": "code",
   "execution_count": null,
   "id": "7ee86008",
   "metadata": {},
   "outputs": [],
   "source": [
    "\n"
   ]
  },
  {
   "cell_type": "code",
   "execution_count": 105,
   "id": "4f167725",
   "metadata": {},
   "outputs": [
    {
     "data": {
      "text/plain": [
       "Text(0, 0.5, 'price')"
      ]
     },
     "execution_count": 105,
     "metadata": {},
     "output_type": "execute_result"
    },
    {
     "data": {
      "image/png": "[encoded data removed]",
      "text/plain": [
       "<Figure size 720x288 with 1 Axes>"
      ]
     },
     "metadata": {
      "needs_background": "light"
     },
     "output_type": "display_data"
    }
   ],
   "source": [
    "y_prices = beta_x + (x*beta1)\n",
    "\n",
    "plt.figure(figsize=(10,4))\n",
    "plt.plot(x, y_prices, c=\"r\")\n",
    "plt.scatter( x, y, color= \"blue\", marker = \"*\", cmap='RdBu')\n",
    "plt.xlabel(\"size in feet\")\n",
    "plt.ylabel(\"price\")\n",
    "\n"
   ]
  },
  {
   "cell_type": "code",
   "execution_count": 108,
   "id": "a8e4eae0",
   "metadata": {},
   "outputs": [
    {
     "name": "stdout",
     "output_type": "stream",
     "text": [
      "house priced for 1800(srft)  is$2055952.38\n"
     ]
    },
    {
     "data": {
      "image/png": "[encoded data removed]",
      "text/plain": [
       "<Figure size 432x288 with 1 Axes>"
      ]
     },
     "metadata": {
      "needs_background": "light"
     },
     "output_type": "display_data"
    }
   ],
   "source": [
    "x_test = [1800]\n",
    "prediction = classifier.predict([x_test])\n",
    "print(\"house priced for {}(srft)  is${:.2f}\".format(x_test[0],prediction[0]))\n",
    "plt.scatter(x_test[0], prediction[0], marker=\"*\", color = \"green\")\n",
    "plt.show()"
   ]
  },
  {
   "cell_type": "code",
   "execution_count": 119,
   "id": "e0f4c24b",
   "metadata": {},
   "outputs": [
    {
     "data": {
      "text/plain": [
       "LinearRegression()"
      ]
     },
     "execution_count": 119,
     "metadata": {},
     "output_type": "execute_result"
    }
   ],
   "source": [
    "# multiple linear regression \n",
    "\n",
    "# creating an array for the size, no. of bedrooms, age of the building \n",
    "\n",
    "building = np.array([\n",
    "    [1000, 3.0, 12],\n",
    "    [1750, 4.0, 10],\n",
    "    [2200, 5.0, 5]\n",
    "])\n",
    "\n",
    "price_houses = np.array([950000, 2250000, 2400000])\n",
    "\n",
    "lr = LinearRegression()\n",
    "lr.fit(building,price_houses)\n"
   ]
  },
  {
   "cell_type": "code",
   "execution_count": 117,
   "id": "136a80d5",
   "metadata": {},
   "outputs": [
    {
     "ename": "SyntaxError",
     "evalue": "invalid syntax (Temp/ipykernel_10392/3900079413.py, line 1)",
     "output_type": "error",
     "traceback": [
      "\u001b[1;36m  File \u001b[1;32m\"C:\\Users\\hp\\AppData\\Local\\Temp/ipykernel_10392/3900079413.py\"\u001b[1;36m, line \u001b[1;32m1\u001b[0m\n\u001b[1;33m    python multiple_linear_regression.py\u001b[0m\n\u001b[1;37m           ^\u001b[0m\n\u001b[1;31mSyntaxError\u001b[0m\u001b[1;31m:\u001b[0m invalid syntax\n"
     ]
    }
   ],
   "source": []
  },
  {
   "cell_type": "code",
   "execution_count": 146,
   "id": "3fc82749",
   "metadata": {},
   "outputs": [],
   "source": [
    "\n",
    "# x_test = \n",
    "pred = lr.predict(np.array([[1800, 4.0, 100],\n",
    "                             [1900, 5, 200],\n",
    "                            [2000, 56, 2100]]))\n",
    "# print ('the price of the property with {} sqft, {} bedrooms and {} years old is ${:.2f}'. format(x_test[0], x_test[1],x_test[2], pred[0]))\n"
   ]
  },
  {
   "cell_type": "code",
   "execution_count": 147,
   "id": "084a6464",
   "metadata": {},
   "outputs": [
    {
     "data": {
      "text/plain": [
       "[array([1.71172361e+07, 3.37166229e+07, 3.44604228e+08])]"
      ]
     },
     "execution_count": 147,
     "metadata": {},
     "output_type": "execute_result"
    }
   ],
   "source": [
    "result = []\n",
    "result.append(pred)\n",
    "result "
   ]
  },
  {
   "cell_type": "code",
   "execution_count": 134,
   "id": "49fe77c0",
   "metadata": {},
   "outputs": [
    {
     "data": {
      "text/plain": [
       "array([1800.,    4.,  100.])"
      ]
     },
     "execution_count": 134,
     "metadata": {},
     "output_type": "execute_result"
    }
   ],
   "source": [
    "x_test"
   ]
  },
  {
   "cell_type": "code",
   "execution_count": null,
   "id": "c4ed1dc7",
   "metadata": {},
   "outputs": [],
   "source": []
  }
 ],
 "metadata": {
  "kernelspec": {
   "display_name": "Python 3 (ipykernel)",
   "language": "python",
   "name": "python3"
  },
  "language_info": {
   "codemirror_mode": {
    "name": "ipython",
    "version": 3
   },
   "file_extension": ".py",
   "mimetype": "text/x-python",
   "name": "python",
   "nbconvert_exporter": "python",
   "pygments_lexer": "ipython3",
   "version": "3.9.7"
  }
 },
 "nbformat": 4,
 "nbformat_minor": 5
}
